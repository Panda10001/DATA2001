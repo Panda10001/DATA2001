{
 "cells": [
  {
   "cell_type": "markdown",
   "id": "4ed493f9",
   "metadata": {},
   "source": [
    "## Task 1: Data Import, Cleaning, and Spatial Integration"
   ]
  },
  {
   "cell_type": "code",
   "execution_count": null,
   "id": "33454742",
   "metadata": {},
   "outputs": [],
   "source": [
    "\n",
    "import geopandas as gpd\n",
    "# Load SA2 shapefile (make sure to download and unzip it from ABS)\n",
    "gdf_sa2 = gpd.read_file(\"SA2_2021_AUST_GDA2020/SA2_2021_AUST_GDA2020.shp\")\n",
    "gdf_sa2 = gdf_sa2[gdf_sa2[\"GCC_NAME21\"] == \"Greater Sydney\"].to_crs(epsg=4326)\n",
    "gdf_sa2.to_postgis(\"sa2_geom\", con=engine, if_exists=\"replace\", index=False)\n"
   ]
  },
  {
   "cell_type": "code",
   "execution_count": null,
   "id": "ec61f1f5",
   "metadata": {},
   "outputs": [],
   "source": [
    "\n",
    "from shapely.geometry import Point\n",
    "\n",
    "df_stops = pd.read_csv(\"stops.txt\")\n",
    "df_stops.dropna(subset=[\"stop_lat\", \"stop_lon\"], inplace=True)\n",
    "geometry = [Point(xy) for xy in zip(df_stops.stop_lon, df_stops.stop_lat)]\n",
    "gdf_stops = gpd.GeoDataFrame(df_stops, geometry=geometry, crs=\"EPSG:4326\")\n",
    "gdf_stops.to_postgis(\"gtfs_stops\", con=engine, if_exists=\"replace\", index=False)\n"
   ]
  },
  {
   "cell_type": "code",
   "execution_count": null,
   "id": "ba537439",
   "metadata": {},
   "outputs": [],
   "source": [
    "\n",
    "# Example query to check SRID in PostgreSQL\n",
    "with engine.connect() as conn:\n",
    "    for table in [\"sa2_geom\", \"gtfs_stops\", \"school_catchments\"]:\n",
    "        result = conn.execute(f\"SELECT ST_SRID(geom) FROM {table} LIMIT 1;\")\n",
    "        srid = result.fetchone()[0]\n",
    "        print(f\"SRID for {table}: {srid}\")\n"
   ]
  },
  {
   "cell_type": "code",
   "execution_count": null,
   "id": "230b956c",
   "metadata": {},
   "outputs": [],
   "source": [
    "\n",
    "# Example: join POIs to SA2\n",
    "query = '''\n",
    "SELECT s.sa2_name21, COUNT(p.id) AS poi_count\n",
    "FROM sa2_geom s\n",
    "JOIN pois p\n",
    "ON ST_Within(p.geom, s.geom)\n",
    "GROUP BY s.sa2_name21;\n",
    "'''\n",
    "df_poi_counts = pd.read_sql(query, con=engine)\n",
    "df_poi_counts.head()\n"
   ]
  },
  {
   "cell_type": "code",
   "execution_count": null,
   "id": "4aaa2108",
   "metadata": {},
   "outputs": [],
   "source": [
    "\n",
    "with engine.connect() as conn:\n",
    "    conn.execute(\"CREATE INDEX IF NOT EXISTS idx_sa2_geom_geom ON sa2_geom USING GIST(geom);\")\n",
    "    conn.execute(\"CREATE INDEX IF NOT EXISTS idx_gtfs_stops_geom ON gtfs_stops USING GIST(geom);\")\n",
    "    conn.execute(\"CREATE INDEX IF NOT EXISTS idx_school_catchments_geom ON school_catchments USING GIST(geom);\")\n",
    "    conn.execute(\"CREATE INDEX IF NOT EXISTS idx_pois_geom ON pois USING GIST(geom);\")\n",
    "print(\"Spatial indexes created.\")\n"
   ]
  },
  {
   "cell_type": "markdown",
   "id": "f9d150b7",
   "metadata": {},
   "source": [
    "## Task 2: NSW POI API Extraction"
   ]
  },
  {
   "cell_type": "code",
   "execution_count": null,
   "id": "10056cb9",
   "metadata": {},
   "outputs": [],
   "source": [
    "\n",
    "import geopandas as gpd\n",
    "import pandas as pd\n",
    "import requests\n",
    "import time\n",
    "from shapely.geometry import Point\n",
    "\n",
    "# Load SA2 geometries\n",
    "sa2_gdf = gpd.read_file(\"SA2_2021_AUST_GDA2020/SA2_2021_AUST_GDA2020.shp\").to_crs(epsg=4283)\n",
    "\n",
    "# Select target SA4 region\n",
    "target_sa4 = \"102\"  # Example: Central Coast\n",
    "sa2_in_sa4 = sa2_gdf[sa2_gdf[\"SA4_CODE21\"] == target_sa4]\n",
    "print(f\"Processing {len(sa2_in_sa4)} SA2 regions in SA4 code {target_sa4}\")\n"
   ]
  },
  {
   "cell_type": "code",
   "execution_count": null,
   "id": "ab8d2689",
   "metadata": {},
   "outputs": [],
   "source": [
    "\n",
    "# Define POI fetch function\n",
    "def fetch_poi(minx, miny, maxx, maxy):\n",
    "    url = \"https://maps.six.nsw.gov.au/arcgis/rest/services/public/NSW_POI/MapServer/0/query\"\n",
    "    params = {\n",
    "        \"where\": \"1=1\",\n",
    "        \"geometry\": f\"{minx},{miny},{maxx},{maxy}\",\n",
    "        \"geometryType\": \"esriGeometryEnvelope\",\n",
    "        \"spatialRel\": \"esriSpatialRelIntersects\",\n",
    "        \"inSR\": 4283,\n",
    "        \"outFields\": \"*\",\n",
    "        \"outSR\": 4283,\n",
    "        \"f\": \"json\"\n",
    "    }\n",
    "    response = requests.get(url, params=params, timeout=30)\n",
    "    response.raise_for_status()\n",
    "    return response.json()\n"
   ]
  },
  {
   "cell_type": "code",
   "execution_count": null,
   "id": "f3484d45",
   "metadata": {},
   "outputs": [],
   "source": [
    "\n",
    "# Loop through each SA2 and collect POIs\n",
    "poi_results = []\n",
    "for _, row in sa2_in_sa4.iterrows():\n",
    "    minx, miny, maxx, maxy = row.geometry.bounds\n",
    "    print(f\"Fetching POIs for SA2: {row['SA2_NAME21']}...\")\n",
    "    data = fetch_poi(minx, miny, maxx, maxy)\n",
    "    features = data.get(\"features\", [])\n",
    "    for feature in features:\n",
    "        attrs = feature.get(\"attributes\", {})\n",
    "        geom = feature.get(\"geometry\", {})\n",
    "        attrs[\"longitude\"] = geom.get(\"x\")\n",
    "        attrs[\"latitude\"] = geom.get(\"y\")\n",
    "        poi_results.append(attrs)\n",
    "    time.sleep(1)\n"
   ]
  },
  {
   "cell_type": "code",
   "execution_count": null,
   "id": "8f4cbd80",
   "metadata": {},
   "outputs": [],
   "source": [
    "\n",
    "# Convert to GeoDataFrame and save to PostgreSQL\n",
    "df_pois = pd.DataFrame(poi_results)\n",
    "df_pois.dropna(subset=[\"latitude\", \"longitude\"], inplace=True)\n",
    "geometry = [Point(xy) for xy in zip(df_pois.longitude, df_pois.latitude)]\n",
    "gdf_pois = gpd.GeoDataFrame(df_pois, geometry=geometry, crs=\"EPSG:4283\")\n",
    "gdf_pois.to_postgis(\"pois\", con=engine, if_exists=\"replace\", index=False)\n",
    "print(\"POIs saved to PostGIS.\")\n"
   ]
  },
  {
   "cell_type": "markdown",
   "id": "5e78c7f4",
   "metadata": {},
   "source": [
    "## Task 3: Score Calculation"
   ]
  },
  {
   "cell_type": "code",
   "execution_count": null,
   "id": "7a46b226",
   "metadata": {},
   "outputs": [],
   "source": [
    "\n",
    "# Compute POIs per SA2\n",
    "query = '''\n",
    "SELECT s.sa2_code21, COUNT(p.*) AS poi_count\n",
    "FROM sa2_geom s\n",
    "JOIN pois p ON ST_Within(p.geom, s.geom)\n",
    "GROUP BY s.sa2_code21\n",
    "'''\n",
    "df_poi_count = pd.read_sql(query, con=engine)\n",
    "df_poi_count.to_sql(\"poi_stats\", con=engine, if_exists=\"replace\", index=False)\n"
   ]
  },
  {
   "cell_type": "code",
   "execution_count": null,
   "id": "bbee5cd2",
   "metadata": {},
   "outputs": [],
   "source": [
    "\n",
    "# Create z-score tables (assuming similar tables exist for business, stops, schools)\n",
    "with engine.connect() as conn:\n",
    "    conn.execute(\"\"\"\n",
    "        DROP VIEW IF EXISTS sa2_scores;\n",
    "        CREATE VIEW sa2_scores AS\n",
    "        WITH z_business AS (\n",
    "            SELECT sa2_code, (business_per_1000 - AVG(business_per_1000) OVER()) / STDDEV(business_per_1000) OVER() AS z_biz\n",
    "            FROM business_stats\n",
    "        ),\n",
    "        z_stops AS (\n",
    "            SELECT sa2_code, (stop_count - AVG(stop_count) OVER()) / STDDEV(stop_count) OVER() AS z_stop\n",
    "            FROM stop_stats\n",
    "        ),\n",
    "        z_schools AS (\n",
    "            SELECT sa2_code, (school_metric - AVG(school_metric) OVER()) / STDDEV(school_metric) OVER() AS z_school\n",
    "            FROM school_stats\n",
    "        ),\n",
    "        z_poi AS (\n",
    "            SELECT sa2_code21 AS sa2_code, (poi_count - AVG(poi_count) OVER()) / STDDEV(poi_count) OVER() AS z_poi\n",
    "            FROM poi_stats\n",
    "        )\n",
    "        SELECT\n",
    "            z_business.sa2_code,\n",
    "            z_biz, z_stop, z_school, z_poi,\n",
    "            (z_biz + z_stop + z_school + z_poi) AS z_sum\n",
    "        FROM z_business\n",
    "        JOIN z_stops USING (sa2_code)\n",
    "        JOIN z_schools USING (sa2_code)\n",
    "        JOIN z_poi USING (sa2_code)\n",
    "    \"\"\")\n"
   ]
  },
  {
   "cell_type": "code",
   "execution_count": null,
   "id": "dae86dc2",
   "metadata": {},
   "outputs": [],
   "source": [
    "\n",
    "# Fetch z_sum from sa2_scores and apply sigmoid\n",
    "df_score = pd.read_sql(\"SELECT * FROM sa2_scores\", con=engine)\n",
    "df_score[\"score\"] = expit(df_score[\"z_sum\"])\n",
    "df_score.to_sql(\"final_scores\", con=engine, if_exists=\"replace\", index=False)\n",
    "df_score.sort_values(\"score\", ascending=False).head()\n"
   ]
  }
 ],
 "metadata": {},
 "nbformat": 4,
 "nbformat_minor": 5
}
